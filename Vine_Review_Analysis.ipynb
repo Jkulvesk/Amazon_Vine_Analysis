{
  "nbformat": 4,
  "nbformat_minor": 0,
  "metadata": {
    "colab": {
      "name": "Vine_Review_Analysis.ipynb",
      "provenance": [],
      "collapsed_sections": []
    },
    "kernelspec": {
      "name": "python3",
      "display_name": "Python 3"
    }
  },
  "cells": [
    {
      "cell_type": "code",
      "metadata": {
        "colab": {
          "base_uri": "https://localhost:8080/"
        },
        "id": "a63mXmcag4n1",
        "outputId": "93e76101-cfaa-4c8c-99fd-2f978662f76f"
      },
      "source": [
        "import os\r\n",
        "# Find the latest version of spark 2.0  from http://www-us.apache.org/dist/spark/ and enter as the spark version\r\n",
        "# For example:\r\n",
        "# spark_version = 'spark-3.0.0'\r\n",
        "spark_version = 'spark-3.0.1'\r\n",
        "os.environ['SPARK_VERSION']=spark_version\r\n",
        "\r\n",
        "# Install Spark and Java\r\n",
        "!apt-get update\r\n",
        "!apt-get install openjdk-11-jdk-headless -qq > /dev/null\r\n",
        "!wget -q http://www-us.apache.org/dist/spark/$SPARK_VERSION/$SPARK_VERSION-bin-hadoop2.7.tgz\r\n",
        "!tar xf $SPARK_VERSION-bin-hadoop2.7.tgz\r\n",
        "!pip install -q findspark\r\n",
        "\r\n",
        "# Set Environment Variables\r\n",
        "import os\r\n",
        "os.environ[\"JAVA_HOME\"] = \"/usr/lib/jvm/java-11-openjdk-amd64\"\r\n",
        "os.environ[\"SPARK_HOME\"] = f\"/content/{spark_version}-bin-hadoop2.7\"\r\n",
        "\r\n",
        "# Start a SparkSession\r\n",
        "import findspark\r\n",
        "findspark.init()"
      ],
      "execution_count": 6,
      "outputs": [
        {
          "output_type": "stream",
          "text": [
            "Get:1 http://security.ubuntu.com/ubuntu bionic-security InRelease [88.7 kB]\n",
            "Get:2 https://cloud.r-project.org/bin/linux/ubuntu bionic-cran40/ InRelease [3,626 B]\n",
            "Ign:3 https://developer.download.nvidia.com/compute/cuda/repos/ubuntu1804/x86_64  InRelease\n",
            "Hit:4 http://archive.ubuntu.com/ubuntu bionic InRelease\n",
            "Get:5 http://ppa.launchpad.net/c2d4u.team/c2d4u4.0+/ubuntu bionic InRelease [15.9 kB]\n",
            "Ign:6 https://developer.download.nvidia.com/compute/machine-learning/repos/ubuntu1804/x86_64  InRelease\n",
            "Get:7 https://developer.download.nvidia.com/compute/cuda/repos/ubuntu1804/x86_64  Release [697 B]\n",
            "Hit:8 https://developer.download.nvidia.com/compute/machine-learning/repos/ubuntu1804/x86_64  Release\n",
            "Get:9 https://developer.download.nvidia.com/compute/cuda/repos/ubuntu1804/x86_64  Release.gpg [836 B]\n",
            "Get:10 http://archive.ubuntu.com/ubuntu bionic-updates InRelease [88.7 kB]\n",
            "Hit:11 http://ppa.launchpad.net/cran/libgit2/ubuntu bionic InRelease\n",
            "Get:12 http://archive.ubuntu.com/ubuntu bionic-backports InRelease [74.6 kB]\n",
            "Hit:13 http://ppa.launchpad.net/graphics-drivers/ppa/ubuntu bionic InRelease\n",
            "Get:14 https://cloud.r-project.org/bin/linux/ubuntu bionic-cran40/ Packages [44.8 kB]\n",
            "Ign:16 https://developer.download.nvidia.com/compute/cuda/repos/ubuntu1804/x86_64  Packages\n",
            "Get:16 https://developer.download.nvidia.com/compute/cuda/repos/ubuntu1804/x86_64  Packages [552 kB]\n",
            "Get:17 http://ppa.launchpad.net/c2d4u.team/c2d4u4.0+/ubuntu bionic/main Sources [1,725 kB]\n",
            "Get:18 http://archive.ubuntu.com/ubuntu bionic-updates/universe amd64 Packages [2,157 kB]\n",
            "Get:19 http://ppa.launchpad.net/c2d4u.team/c2d4u4.0+/ubuntu bionic/main amd64 Packages [883 kB]\n",
            "Get:20 http://archive.ubuntu.com/ubuntu bionic-updates/main amd64 Packages [2,352 kB]\n",
            "Fetched 7,987 kB in 3s (2,608 kB/s)\n",
            "Reading package lists... Done\n"
          ],
          "name": "stdout"
        }
      ]
    },
    {
      "cell_type": "code",
      "metadata": {
        "colab": {
          "base_uri": "https://localhost:8080/"
        },
        "id": "jObOxuvshOh8",
        "outputId": "582d442b-ff32-4f84-ce77-913446d0e7a3"
      },
      "source": [
        "# Download the Postgres driver that will allow Spark to interact with Postgres.\r\n",
        "!wget https://jdbc.postgresql.org/download/postgresql-42.2.16.jar"
      ],
      "execution_count": 7,
      "outputs": [
        {
          "output_type": "stream",
          "text": [
            "--2021-02-06 19:14:42--  https://jdbc.postgresql.org/download/postgresql-42.2.16.jar\n",
            "Resolving jdbc.postgresql.org (jdbc.postgresql.org)... 72.32.157.228, 2001:4800:3e1:1::228\n",
            "Connecting to jdbc.postgresql.org (jdbc.postgresql.org)|72.32.157.228|:443... connected.\n",
            "HTTP request sent, awaiting response... 200 OK\n",
            "Length: 1002883 (979K) [application/java-archive]\n",
            "Saving to: ‘postgresql-42.2.16.jar’\n",
            "\n",
            "postgresql-42.2.16. 100%[===================>] 979.38K  --.-KB/s    in 0.1s    \n",
            "\n",
            "2021-02-06 19:14:43 (6.59 MB/s) - ‘postgresql-42.2.16.jar’ saved [1002883/1002883]\n",
            "\n"
          ],
          "name": "stdout"
        }
      ]
    },
    {
      "cell_type": "code",
      "metadata": {
        "id": "kE0QWMShiU5I"
      },
      "source": [
        "from pyspark.sql import SparkSession\r\n",
        "spark = SparkSession.builder.appName(\"BigData-Challenge\").config(\"spark.driver.extraClassPath\",\"/content/postgresql-42.2.16.jar\").getOrCreate()"
      ],
      "execution_count": 8,
      "outputs": []
    },
    {
      "cell_type": "code",
      "metadata": {
        "colab": {
          "base_uri": "https://localhost:8080/"
        },
        "id": "f2y1S0X6icqU",
        "outputId": "90727254-ed10-43dd-d24f-107a81982782"
      },
      "source": [
        "\r\n",
        "from pyspark import SparkFiles\r\n",
        "url = \"https://s3.amazonaws.com/amazon-reviews-pds/tsv/amazon_reviews_us_Personal_Care_Appliances_v1_00.tsv.gz\"\r\n",
        "spark.sparkContext.addFile(url)\r\n",
        "df = spark.read.option(\"encoding\", \"UTF-8\").csv(SparkFiles.get(\"\"), sep=\"\\t\", header=True, inferSchema=True)\r\n",
        "df.show()"
      ],
      "execution_count": 9,
      "outputs": [
        {
          "output_type": "stream",
          "text": [
            "+-----------+-----------+--------------+----------+--------------+--------------------+--------------------+-----------+-------------+-----------+----+-----------------+--------------------+--------------------+-----------+\n",
            "|marketplace|customer_id|     review_id|product_id|product_parent|       product_title|    product_category|star_rating|helpful_votes|total_votes|vine|verified_purchase|     review_headline|         review_body|review_date|\n",
            "+-----------+-----------+--------------+----------+--------------+--------------------+--------------------+-----------+-------------+-----------+----+-----------------+--------------------+--------------------+-----------+\n",
            "|         US|   32114233|R1QX6706ZWJ1P5|B00OYRW4UE|     223980852|Elite Sportz Exer...|Personal_Care_App...|          5|            0|          0|   N|                Y|Good quality. Shi...|Exactly as descri...| 2015-08-31|\n",
            "|         US|   18125776|R3QWMLJHIW6P37|B0000537JQ|     819771537|     Ezy Dose Weekly|Personal_Care_App...|          5|            0|          0|   N|                Y|          Five Stars|         It is great| 2015-08-31|\n",
            "|         US|   19917519|R14Z1VR1N0Z9G6|B00HXXO332|     849307176|Pulse Oximeter, B...|Personal_Care_App...|          5|            1|          1|   N|                Y|It's really nice ...|It's really nice ...| 2015-08-31|\n",
            "|         US|   18277171| R25ZRJL0GH0U0|B00EOB0JA2|     700864740|SE Tools Tool Kit...|Personal_Care_App...|          2|            0|          0|   N|                Y|           Two Stars|The kit works fin...| 2015-08-31|\n",
            "|         US|    2593270|R3837KYH7AZNIY|B00OC2O1UC|     794298839|doTERRA HD Clear ...|Personal_Care_App...|          4|            0|          1|   N|                Y|          Four Stars|It works better t...| 2015-08-31|\n",
            "|         US|    2592955|R2MN0QYCY6EVIV|B00HES9CMS|     318730927|Viva Naturals #1 ...|Personal_Care_App...|          5|            0|          0|   N|                Y|      not bad at all|I added to my oat...| 2015-08-31|\n",
            "|         US|   15168265|R3AN2UJ1D42ZS0|B0016BFR4G|     887476137|Uncle Lee's Organ...|Personal_Care_App...|          5|            0|          0|   N|                Y|Mild, enjoyable t...|Husband drinks th...| 2015-08-31|\n",
            "|         US|   13761624|R3U29ZLUWEEK4M|B00K504UUG|     458706868|Syrtenty Electrod...|Personal_Care_App...|          5|            0|          0|   N|                Y|          Five Stars|       Good quality.| 2015-08-31|\n",
            "|         US|   37070734|R16ZDMJJHK796C|B00HES9CMS|     318730927|Viva Naturals #1 ...|Personal_Care_App...|          5|            0|          0|   N|                N|        High Quality|This is high qual...| 2015-08-31|\n",
            "|         US|   29615023| RRRDOEJZD1Y22|B00P6TUO5G|     170248843|Viva Naturals Org...|Personal_Care_App...|          4|            0|          0|   N|                Y|          we like it|Buying more produ...| 2015-08-31|\n",
            "|         US|   47893062|R2KR5ZEAS859DK|B0006VJ6TO|     412568457|Body Back Company...|Personal_Care_App...|          5|            0|          0|   N|                Y|          Five Stars|    Their best cane.| 2015-08-31|\n",
            "|         US|    2582596| RR7PGQY763IHF|B00H9L7VIW|     851045898|boostULTIMATE - 6...|Personal_Care_App...|          5|            0|          0|   N|                Y|       Great product|Great product! Ma...| 2015-08-31|\n",
            "|         US|   21969415| RN37YYZBP9BMP|B00P1JNZUW|     274294586|doTERRA Veráge Sk...|Personal_Care_App...|          5|            4|          4|   N|                Y|Love the prouduct...|Love the prouduct...| 2015-08-31|\n",
            "|         US|   43153609| R1UXGB70OR5TW|B00N5HD340|     955577225|      Straight Razor|Personal_Care_App...|          5|            0|          0|   N|                Y|          Five Stars|          great buy.| 2015-08-31|\n",
            "|         US|   17782951|R1OC5ZNXSGO7P1|B0007DHMVK|      78719480|BONGER Massage To...|Personal_Care_App...|          5|            0|          0|   N|                Y|          Five stars|These are so much...| 2015-08-31|\n",
            "|         US|   13710264|R1W4ZN8BPVNWK3|B0002JG2NI|     900996767|Home Health Casto...|Personal_Care_App...|          5|            0|          0|   N|                Y|It works for home...|It works for home...| 2015-08-31|\n",
            "|         US|   30720884|R2KE33CNN5X2B0|B00OYRW4UE|     223980852|Elite Sportz Exer...|Personal_Care_App...|          5|            0|          0|   N|                Y|These work great ...|These work great ...| 2015-08-31|\n",
            "|         US|   35206254|R1A26EDSO0U5N6|B00598WT0C|     218203731|Aloha Eyewear “St...|Personal_Care_App...|          5|            0|          0|   N|                Y|             awesome|for anyone needin...| 2015-08-31|\n",
            "|         US|   10261156|R3L81GOHVS3E9P|B0006VJ6TO|     412568457|Body Back Company...|Personal_Care_App...|          5|            0|          0|   N|                Y| Deep tissue massage|This works perfec...| 2015-08-31|\n",
            "|         US|   50708344| RNFW9SWC5D0YF|B00J7G96NK|     256041044|Oral B Glide Flos...|Personal_Care_App...|          5|            2|          2|   N|                N|These are an esse...|Not only are thes...| 2015-08-31|\n",
            "+-----------+-----------+--------------+----------+--------------+--------------------+--------------------+-----------+-------------+-----------+----+-----------------+--------------------+--------------------+-----------+\n",
            "only showing top 20 rows\n",
            "\n"
          ],
          "name": "stdout"
        }
      ]
    },
    {
      "cell_type": "code",
      "metadata": {
        "id": "5ATLjAFQirlx"
      },
      "source": [
        "from pyspark.sql.functions import to_date\r\n",
        "# Read in the Review dataset as a DataFrame"
      ],
      "execution_count": 10,
      "outputs": []
    },
    {
      "cell_type": "code",
      "metadata": {
        "colab": {
          "base_uri": "https://localhost:8080/"
        },
        "id": "kYnwH3jQr7cc",
        "outputId": "0dc11bd3-8931-44e1-ac2d-ca3ad6493c2b"
      },
      "source": [
        "# Create the vine_table. DataFrame\r\n",
        "vine_df = df.select(['review_id', 'star_rating', 'helpful_votes', 'total_votes', 'vine', 'verified_purchase'])\r\n",
        "vine_df.show()"
      ],
      "execution_count": null,
      "outputs": [
        {
          "output_type": "stream",
          "text": [
            "+--------------+-----------+-------------+-----------+----+-----------------+\n",
            "|     review_id|star_rating|helpful_votes|total_votes|vine|verified_purchase|\n",
            "+--------------+-----------+-------------+-----------+----+-----------------+\n",
            "|R1QX6706ZWJ1P5|          5|            0|          0|   N|                Y|\n",
            "|R3QWMLJHIW6P37|          5|            0|          0|   N|                Y|\n",
            "|R14Z1VR1N0Z9G6|          5|            1|          1|   N|                Y|\n",
            "| R25ZRJL0GH0U0|          2|            0|          0|   N|                Y|\n",
            "|R3837KYH7AZNIY|          4|            0|          1|   N|                Y|\n",
            "|R2MN0QYCY6EVIV|          5|            0|          0|   N|                Y|\n",
            "|R3AN2UJ1D42ZS0|          5|            0|          0|   N|                Y|\n",
            "|R3U29ZLUWEEK4M|          5|            0|          0|   N|                Y|\n",
            "|R16ZDMJJHK796C|          5|            0|          0|   N|                N|\n",
            "| RRRDOEJZD1Y22|          4|            0|          0|   N|                Y|\n",
            "|R2KR5ZEAS859DK|          5|            0|          0|   N|                Y|\n",
            "| RR7PGQY763IHF|          5|            0|          0|   N|                Y|\n",
            "| RN37YYZBP9BMP|          5|            4|          4|   N|                Y|\n",
            "| R1UXGB70OR5TW|          5|            0|          0|   N|                Y|\n",
            "|R1OC5ZNXSGO7P1|          5|            0|          0|   N|                Y|\n",
            "|R1W4ZN8BPVNWK3|          5|            0|          0|   N|                Y|\n",
            "|R2KE33CNN5X2B0|          5|            0|          0|   N|                Y|\n",
            "|R1A26EDSO0U5N6|          5|            0|          0|   N|                Y|\n",
            "|R3L81GOHVS3E9P|          5|            0|          0|   N|                Y|\n",
            "| RNFW9SWC5D0YF|          5|            2|          2|   N|                N|\n",
            "+--------------+-----------+-------------+-----------+----+-----------------+\n",
            "only showing top 20 rows\n",
            "\n"
          ],
          "name": "stdout"
        }
      ]
    },
    {
      "cell_type": "code",
      "metadata": {
        "colab": {
          "base_uri": "https://localhost:8080/"
        },
        "id": "MgYru3DZtdOv",
        "outputId": "d683f683-900e-43ce-b6aa-ab473011fcd5"
      },
      "source": [
        "selectdf = df.select(['review_id', 'star_rating', 'helpful_votes', 'total_votes', 'vine', 'verified_purchase'])\r\n",
        "selectdf.show()"
      ],
      "execution_count": 11,
      "outputs": [
        {
          "output_type": "stream",
          "text": [
            "+--------------+-----------+-------------+-----------+----+-----------------+\n",
            "|     review_id|star_rating|helpful_votes|total_votes|vine|verified_purchase|\n",
            "+--------------+-----------+-------------+-----------+----+-----------------+\n",
            "|R1QX6706ZWJ1P5|          5|            0|          0|   N|                Y|\n",
            "|R3QWMLJHIW6P37|          5|            0|          0|   N|                Y|\n",
            "|R14Z1VR1N0Z9G6|          5|            1|          1|   N|                Y|\n",
            "| R25ZRJL0GH0U0|          2|            0|          0|   N|                Y|\n",
            "|R3837KYH7AZNIY|          4|            0|          1|   N|                Y|\n",
            "|R2MN0QYCY6EVIV|          5|            0|          0|   N|                Y|\n",
            "|R3AN2UJ1D42ZS0|          5|            0|          0|   N|                Y|\n",
            "|R3U29ZLUWEEK4M|          5|            0|          0|   N|                Y|\n",
            "|R16ZDMJJHK796C|          5|            0|          0|   N|                N|\n",
            "| RRRDOEJZD1Y22|          4|            0|          0|   N|                Y|\n",
            "|R2KR5ZEAS859DK|          5|            0|          0|   N|                Y|\n",
            "| RR7PGQY763IHF|          5|            0|          0|   N|                Y|\n",
            "| RN37YYZBP9BMP|          5|            4|          4|   N|                Y|\n",
            "| R1UXGB70OR5TW|          5|            0|          0|   N|                Y|\n",
            "|R1OC5ZNXSGO7P1|          5|            0|          0|   N|                Y|\n",
            "|R1W4ZN8BPVNWK3|          5|            0|          0|   N|                Y|\n",
            "|R2KE33CNN5X2B0|          5|            0|          0|   N|                Y|\n",
            "|R1A26EDSO0U5N6|          5|            0|          0|   N|                Y|\n",
            "|R3L81GOHVS3E9P|          5|            0|          0|   N|                Y|\n",
            "| RNFW9SWC5D0YF|          5|            2|          2|   N|                N|\n",
            "+--------------+-----------+-------------+-----------+----+-----------------+\n",
            "only showing top 20 rows\n",
            "\n"
          ],
          "name": "stdout"
        }
      ]
    },
    {
      "cell_type": "code",
      "metadata": {
        "colab": {
          "base_uri": "https://localhost:8080/"
        },
        "id": "DBTlDvurZq3j",
        "outputId": "bf51b25c-e191-4222-a8c4-783616729e73"
      },
      "source": [
        "newdf = selectdf.filter(selectdf.total_votes >= 20)\r\n",
        "newdf.show()"
      ],
      "execution_count": 12,
      "outputs": [
        {
          "output_type": "stream",
          "text": [
            "+--------------+-----------+-------------+-----------+----+-----------------+\n",
            "|     review_id|star_rating|helpful_votes|total_votes|vine|verified_purchase|\n",
            "+--------------+-----------+-------------+-----------+----+-----------------+\n",
            "|R2PT2X8FMYFCV3|          5|           39|         41|   N|                Y|\n",
            "| RGCUQSH80SYY7|          1|           36|         47|   N|                N|\n",
            "|R3E6EI073KP0AL|          2|           21|         36|   N|                Y|\n",
            "|R3MYTXW7B4Z6YW|          4|          687|        711|   N|                Y|\n",
            "|R2WMF1IWN5ZYO4|          5|           18|         24|   N|                Y|\n",
            "| ROX6L7VJFS2P7|          5|          339|        371|   N|                N|\n",
            "| RRKAST7D4QTW8|          1|           20|         27|   N|                N|\n",
            "|R2QBKTWBDPL8BF|          5|           65|         83|   N|                N|\n",
            "|R3ULT9I0U79N8L|          5|           49|         57|   N|                N|\n",
            "|R20LABVEB8O83Q|          3|           11|         23|   N|                Y|\n",
            "| RAC19YVDYSIKB|          5|          161|        178|   N|                Y|\n",
            "|R2Y371XG6AXDOJ|          1|           16|         30|   N|                Y|\n",
            "|R2AYFA0X50V4BN|          5|           19|         20|   N|                Y|\n",
            "|R1327SZTWDHLID|          1|           12|         24|   N|                Y|\n",
            "|R28VFN6VN0VBTB|          1|            7|         20|   N|                N|\n",
            "|R1I52HQDJFY2G0|          4|           18|         20|   N|                Y|\n",
            "|R1FANBM03J1IHE|          5|           24|         31|   N|                N|\n",
            "|R2X15QGPQ9ESRU|          1|           12|         23|   N|                Y|\n",
            "|R1F7CUCJIBPS7L|          3|           20|         21|   N|                Y|\n",
            "|R3JV04CHH10FFR|          5|           32|         32|   N|                Y|\n",
            "+--------------+-----------+-------------+-----------+----+-----------------+\n",
            "only showing top 20 rows\n",
            "\n"
          ],
          "name": "stdout"
        }
      ]
    },
    {
      "cell_type": "code",
      "metadata": {
        "id": "1IO-NPjSs8T3"
      },
      "source": [
        ""
      ],
      "execution_count": 12,
      "outputs": []
    },
    {
      "cell_type": "code",
      "metadata": {
        "colab": {
          "base_uri": "https://localhost:8080/"
        },
        "id": "7ivSL5TBrYfa",
        "outputId": "1944cd9c-bf24-4ed0-beb7-8c9b79481b72"
      },
      "source": [
        "#newdf2 = newdf.select(['helpful_votes', 'total_votes'])\r\n",
        "newdf2 = newdf.filter(newdf['helpful_votes'] / newdf['total_votes'] >=.5)\r\n",
        "newdf2.show()"
      ],
      "execution_count": 13,
      "outputs": [
        {
          "output_type": "stream",
          "text": [
            "+--------------+-----------+-------------+-----------+----+-----------------+\n",
            "|     review_id|star_rating|helpful_votes|total_votes|vine|verified_purchase|\n",
            "+--------------+-----------+-------------+-----------+----+-----------------+\n",
            "|R2PT2X8FMYFCV3|          5|           39|         41|   N|                Y|\n",
            "| RGCUQSH80SYY7|          1|           36|         47|   N|                N|\n",
            "|R3E6EI073KP0AL|          2|           21|         36|   N|                Y|\n",
            "|R3MYTXW7B4Z6YW|          4|          687|        711|   N|                Y|\n",
            "|R2WMF1IWN5ZYO4|          5|           18|         24|   N|                Y|\n",
            "| ROX6L7VJFS2P7|          5|          339|        371|   N|                N|\n",
            "| RRKAST7D4QTW8|          1|           20|         27|   N|                N|\n",
            "|R2QBKTWBDPL8BF|          5|           65|         83|   N|                N|\n",
            "|R3ULT9I0U79N8L|          5|           49|         57|   N|                N|\n",
            "| RAC19YVDYSIKB|          5|          161|        178|   N|                Y|\n",
            "|R2Y371XG6AXDOJ|          1|           16|         30|   N|                Y|\n",
            "|R2AYFA0X50V4BN|          5|           19|         20|   N|                Y|\n",
            "|R1327SZTWDHLID|          1|           12|         24|   N|                Y|\n",
            "|R1I52HQDJFY2G0|          4|           18|         20|   N|                Y|\n",
            "|R1FANBM03J1IHE|          5|           24|         31|   N|                N|\n",
            "|R2X15QGPQ9ESRU|          1|           12|         23|   N|                Y|\n",
            "|R1F7CUCJIBPS7L|          3|           20|         21|   N|                Y|\n",
            "|R3JV04CHH10FFR|          5|           32|         32|   N|                Y|\n",
            "| R9F7EN48ULXMD|          1|           11|         20|   N|                Y|\n",
            "|R1K0BP4TF3U8EH|          5|           23|         37|   N|                Y|\n",
            "+--------------+-----------+-------------+-----------+----+-----------------+\n",
            "only showing top 20 rows\n",
            "\n"
          ],
          "name": "stdout"
        }
      ]
    },
    {
      "cell_type": "code",
      "metadata": {
        "colab": {
          "base_uri": "https://localhost:8080/"
        },
        "id": "q5nkcymBg4ja",
        "outputId": "4a57137d-22ac-41e8-f331-eed403e93a12"
      },
      "source": [
        "vineprogpaid = newdf2.filter(newdf2['vine'] == 'Y')\r\n",
        "vineprogpaid.show()"
      ],
      "execution_count": 14,
      "outputs": [
        {
          "output_type": "stream",
          "text": [
            "+--------------+-----------+-------------+-----------+----+-----------------+\n",
            "|     review_id|star_rating|helpful_votes|total_votes|vine|verified_purchase|\n",
            "+--------------+-----------+-------------+-----------+----+-----------------+\n",
            "|R3R2RHQWEKX5NL|          5|           81|         89|   Y|                N|\n",
            "|R1RZ4JZO8DAP7H|          3|          200|        227|   Y|                N|\n",
            "| RQ94HI0WM8KIG|          5|          174|        188|   Y|                N|\n",
            "+--------------+-----------+-------------+-----------+----+-----------------+\n",
            "\n"
          ],
          "name": "stdout"
        }
      ]
    },
    {
      "cell_type": "code",
      "metadata": {
        "id": "gRm1MhvSjeRm",
        "colab": {
          "base_uri": "https://localhost:8080/"
        },
        "outputId": "e9e5bac1-b9f2-4d50-e28b-86d902885d46"
      },
      "source": [
        "vineprognotpaid = newdf2.filter(newdf2['vine'] == 'N')\r\n",
        "vineprognotpaid.show()"
      ],
      "execution_count": 15,
      "outputs": [
        {
          "output_type": "stream",
          "text": [
            "+--------------+-----------+-------------+-----------+----+-----------------+\n",
            "|     review_id|star_rating|helpful_votes|total_votes|vine|verified_purchase|\n",
            "+--------------+-----------+-------------+-----------+----+-----------------+\n",
            "|R2PT2X8FMYFCV3|          5|           39|         41|   N|                Y|\n",
            "| RGCUQSH80SYY7|          1|           36|         47|   N|                N|\n",
            "|R3E6EI073KP0AL|          2|           21|         36|   N|                Y|\n",
            "|R3MYTXW7B4Z6YW|          4|          687|        711|   N|                Y|\n",
            "|R2WMF1IWN5ZYO4|          5|           18|         24|   N|                Y|\n",
            "| ROX6L7VJFS2P7|          5|          339|        371|   N|                N|\n",
            "| RRKAST7D4QTW8|          1|           20|         27|   N|                N|\n",
            "|R2QBKTWBDPL8BF|          5|           65|         83|   N|                N|\n",
            "|R3ULT9I0U79N8L|          5|           49|         57|   N|                N|\n",
            "| RAC19YVDYSIKB|          5|          161|        178|   N|                Y|\n",
            "|R2Y371XG6AXDOJ|          1|           16|         30|   N|                Y|\n",
            "|R2AYFA0X50V4BN|          5|           19|         20|   N|                Y|\n",
            "|R1327SZTWDHLID|          1|           12|         24|   N|                Y|\n",
            "|R1I52HQDJFY2G0|          4|           18|         20|   N|                Y|\n",
            "|R1FANBM03J1IHE|          5|           24|         31|   N|                N|\n",
            "|R2X15QGPQ9ESRU|          1|           12|         23|   N|                Y|\n",
            "|R1F7CUCJIBPS7L|          3|           20|         21|   N|                Y|\n",
            "|R3JV04CHH10FFR|          5|           32|         32|   N|                Y|\n",
            "| R9F7EN48ULXMD|          1|           11|         20|   N|                Y|\n",
            "|R1K0BP4TF3U8EH|          5|           23|         37|   N|                Y|\n",
            "+--------------+-----------+-------------+-----------+----+-----------------+\n",
            "only showing top 20 rows\n",
            "\n"
          ],
          "name": "stdout"
        }
      ]
    },
    {
      "cell_type": "code",
      "metadata": {
        "colab": {
          "base_uri": "https://localhost:8080/"
        },
        "id": "1ra2DSN3x3M9",
        "outputId": "9d0f7a07-a7ad-4e27-bd94-a04c640a04c6"
      },
      "source": [
        "#Determine the total number of reviews, the number of 5-star reviews, \r\n",
        "#and the percentage of 5-star reviews for the two types of review (paid vs unpaid).\r\n",
        "newdf2.describe('review_id').show()\r\n",
        "\r\n",
        "\r\n",
        "\r\n",
        "\r\n",
        "\r\n",
        "\r\n",
        "#summarydf = newdf2.select([count('review_id'), count('star_rating') == 5])\r\n",
        "#summarydf.show()"
      ],
      "execution_count": 20,
      "outputs": [
        {
          "output_type": "stream",
          "text": [
            "+-------+--------------+\n",
            "|summary|     review_id|\n",
            "+-------+--------------+\n",
            "|  count|          3097|\n",
            "|   mean|          null|\n",
            "| stddev|          null|\n",
            "|    min|R101BLOBF0VPZI|\n",
            "|    max| RZXZEC7KALGBC|\n",
            "+-------+--------------+\n",
            "\n"
          ],
          "name": "stdout"
        }
      ]
    },
    {
      "cell_type": "code",
      "metadata": {
        "colab": {
          "base_uri": "https://localhost:8080/"
        },
        "id": "T63fj9Yn0WHp",
        "outputId": "1342022e-1f6a-4248-c065-c4c84d42026c"
      },
      "source": [
        "fivestarcount = newdf2[newdf2['star_rating'] == 5].count()\r\n",
        "print(fivestarcount)"
      ],
      "execution_count": 22,
      "outputs": [
        {
          "output_type": "stream",
          "text": [
            "1706\n"
          ],
          "name": "stdout"
        }
      ]
    },
    {
      "cell_type": "code",
      "metadata": {
        "colab": {
          "base_uri": "https://localhost:8080/"
        },
        "id": "9fILRKMt58IG",
        "outputId": "9813e03f-a8ce-4e32-cea4-4649a84afa82"
      },
      "source": [
        "fivestarpaid = vineprogpaid[vineprogpaid['star_rating'] ==5].count()\r\n",
        "print(fivestarpaid)"
      ],
      "execution_count": 23,
      "outputs": [
        {
          "output_type": "stream",
          "text": [
            "2\n"
          ],
          "name": "stdout"
        }
      ]
    },
    {
      "cell_type": "code",
      "metadata": {
        "colab": {
          "base_uri": "https://localhost:8080/"
        },
        "id": "o7hp3O-W6VRD",
        "outputId": "40664de6-936d-4c94-c0e5-022ea1e8ce65"
      },
      "source": [
        "fivestarnotpaid = vineprognotpaid[vineprognotpaid['star_rating'] ==5].count()\r\n",
        "print(fivestarnotpaid)"
      ],
      "execution_count": 24,
      "outputs": [
        {
          "output_type": "stream",
          "text": [
            "1704\n"
          ],
          "name": "stdout"
        }
      ]
    },
    {
      "cell_type": "code",
      "metadata": {
        "colab": {
          "base_uri": "https://localhost:8080/"
        },
        "id": "B9M7YdRT6ehP",
        "outputId": "4b30b0e4-d12b-4d92-85d8-ab6ecba8f1bd"
      },
      "source": [
        "percpaidrev = fivestarpaid / fivestarcount\r\n",
        "print(percpaidrev)"
      ],
      "execution_count": 25,
      "outputs": [
        {
          "output_type": "stream",
          "text": [
            "0.0011723329425556857\n"
          ],
          "name": "stdout"
        }
      ]
    },
    {
      "cell_type": "code",
      "metadata": {
        "colab": {
          "base_uri": "https://localhost:8080/"
        },
        "id": "DNttK4a26o4n",
        "outputId": "449ef444-b3bf-4fb3-fcea-053691699cab"
      },
      "source": [
        "percnotpaidrev = fivestarnotpaid / fivestarcount\r\n",
        "print(percnotpaidrev)"
      ],
      "execution_count": 26,
      "outputs": [
        {
          "output_type": "stream",
          "text": [
            "0.9988276670574443\n"
          ],
          "name": "stdout"
        }
      ]
    },
    {
      "cell_type": "code",
      "metadata": {
        "id": "AbfbxTde6v5W"
      },
      "source": [
        ""
      ],
      "execution_count": null,
      "outputs": []
    }
  ]
}